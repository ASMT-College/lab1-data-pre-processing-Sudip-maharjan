{
  "nbformat": 4,
  "nbformat_minor": 0,
  "metadata": {
    "colab": {
      "provenance": [],
      "authorship_tag": "ABX9TyMdLOitoiPd1o22lcjWgLVY"
    },
    "kernelspec": {
      "name": "python3",
      "display_name": "Python 3"
    },
    "language_info": {
      "name": "python"
    }
  },
  "cells": [
    {
      "cell_type": "code",
      "execution_count": 1,
      "metadata": {
        "id": "s-4IUWqU-zyJ"
      },
      "outputs": [],
      "source": [
        "import pandas as pd"
      ]
    },
    {
      "cell_type": "code",
      "source": [
        "#Load and print dataset\n",
        "df = pd.read_csv('customer_ages.csv')\n",
        "print(\"Initial Data:\\n\", df.head())"
      ],
      "metadata": {
        "colab": {
          "base_uri": "https://localhost:8080/"
        },
        "id": "Kf7TGbxQ--k8",
        "outputId": "7120641e-4ca6-47a3-fc24-73cf98cd8ccd"
      },
      "execution_count": 2,
      "outputs": [
        {
          "output_type": "stream",
          "name": "stdout",
          "text": [
            "Initial Data:\n",
            "    CustomerID  Age\n",
            "0           1   25\n",
            "1           2   42\n",
            "2           3   36\n",
            "3           4   53\n",
            "4           5   28\n"
          ]
        }
      ]
    },
    {
      "cell_type": "code",
      "source": [
        "#create data bins and assign labels column 'Age';\n",
        "bins = [18, 30, 50, 100]\n",
        "labels = ['Young', 'Middle-aged', 'Senior']\n",
        "df['AgeGroup'] = pd.cut(df['Age'], bins=bins, labels=labels, right=False)\n",
        "#print processed data\n",
        "print(\"\\nData after Binning:\\n\", df.head())"
      ],
      "metadata": {
        "colab": {
          "base_uri": "https://localhost:8080/"
        },
        "id": "tleKAbS0_CbD",
        "outputId": "4c786376-edb4-4a52-e0b2-fb2311915133"
      },
      "execution_count": 3,
      "outputs": [
        {
          "output_type": "stream",
          "name": "stdout",
          "text": [
            "\n",
            "Data after Binning:\n",
            "    CustomerID  Age     AgeGroup\n",
            "0           1   25        Young\n",
            "1           2   42  Middle-aged\n",
            "2           3   36  Middle-aged\n",
            "3           4   53       Senior\n",
            "4           5   28        Young\n"
          ]
        }
      ]
    },
    {
      "cell_type": "code",
      "source": [
        "#calculate the number of customers in each age group\n",
        "age_group_distribution = df['AgeGroup'].value_counts()\n",
        "#print the distributed data\n",
        "print(\"\\nAge Group Distribution:\\n\", age_group_distribution)"
      ],
      "metadata": {
        "colab": {
          "base_uri": "https://localhost:8080/"
        },
        "id": "gQWLa0-W_KAD",
        "outputId": "c6979171-df8c-479e-f397-8c1bb9399884"
      },
      "execution_count": 4,
      "outputs": [
        {
          "output_type": "stream",
          "name": "stdout",
          "text": [
            "\n",
            "Age Group Distribution:\n",
            " AgeGroup\n",
            "Middle-aged    7\n",
            "Young          5\n",
            "Senior         3\n",
            "Name: count, dtype: int64\n"
          ]
        }
      ]
    }
  ]
}